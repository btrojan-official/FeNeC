{
  "cells": [
    {
      "cell_type": "markdown",
      "metadata": {
        "id": "OZWAJpidm-Pw"
      },
      "source": [
        "#Imports, Data Downloading and Preprocessing"
      ]
    },
    {
      "cell_type": "code",
      "execution_count": 1,
      "metadata": {
        "id": "bkb5g0Tu6JcY"
      },
      "outputs": [],
      "source": [
        "import matplotlib.pyplot as plt\n",
        "\n",
        "import torchvision\n",
        "import torchvision.transforms as transforms\n",
        "import torch\n",
        "\n",
        "import numpy as np\n",
        "\n",
        "from sklearn.datasets import make_moons\n",
        "from sklearn.model_selection import train_test_split\n",
        "from sklearn.neighbors import KNeighborsClassifier\n",
        "from sklearn.metrics import accuracy_score"
      ]
    },
    {
      "cell_type": "code",
      "execution_count": 2,
      "metadata": {
        "colab": {
          "base_uri": "https://localhost:8080/"
        },
        "id": "2TXTxS-K7K3t",
        "outputId": "fa4dcd06-d88e-4d5b-9274-bc5fe361cdf6"
      },
      "outputs": [
        {
          "name": "stdout",
          "output_type": "stream",
          "text": [
            "CUDA jest dostępna. Używam GPU.\n"
          ]
        }
      ],
      "source": [
        "if torch.cuda.is_available():\n",
        "    device = torch.device(\"cuda\")\n",
        "    print(\"CUDA jest dostępna. Używam GPU.\")\n",
        "else:\n",
        "    device = torch.device(\"cpu\")\n",
        "    print(\"CUDA nie jest dostępna. Używam CPU.\")"
      ]
    },
    {
      "cell_type": "code",
      "execution_count": 3,
      "metadata": {
        "colab": {
          "base_uri": "https://localhost:8080/"
        },
        "id": "LNstu6VPm4QS",
        "outputId": "17b2d617-a1f6-4270-c6b1-b77691c945fb"
      },
      "outputs": [
        {
          "name": "stdout",
          "output_type": "stream",
          "text": [
            "Downloading http://yann.lecun.com/exdb/mnist/train-images-idx3-ubyte.gz\n",
            "Failed to download (trying next):\n",
            "HTTP Error 403: Forbidden\n",
            "\n",
            "Downloading https://ossci-datasets.s3.amazonaws.com/mnist/train-images-idx3-ubyte.gz\n",
            "Downloading https://ossci-datasets.s3.amazonaws.com/mnist/train-images-idx3-ubyte.gz to ./data\\MNIST\\raw\\train-images-idx3-ubyte.gz\n"
          ]
        },
        {
          "name": "stderr",
          "output_type": "stream",
          "text": [
            "100%|██████████| 9912422/9912422 [00:11<00:00, 834412.39it/s] \n"
          ]
        },
        {
          "name": "stdout",
          "output_type": "stream",
          "text": [
            "Extracting ./data\\MNIST\\raw\\train-images-idx3-ubyte.gz to ./data\\MNIST\\raw\n",
            "\n",
            "Downloading http://yann.lecun.com/exdb/mnist/train-labels-idx1-ubyte.gz\n",
            "Failed to download (trying next):\n",
            "HTTP Error 403: Forbidden\n",
            "\n",
            "Downloading https://ossci-datasets.s3.amazonaws.com/mnist/train-labels-idx1-ubyte.gz\n",
            "Downloading https://ossci-datasets.s3.amazonaws.com/mnist/train-labels-idx1-ubyte.gz to ./data\\MNIST\\raw\\train-labels-idx1-ubyte.gz\n"
          ]
        },
        {
          "name": "stderr",
          "output_type": "stream",
          "text": [
            "100%|██████████| 28881/28881 [00:00<00:00, 291011.09it/s]\n"
          ]
        },
        {
          "name": "stdout",
          "output_type": "stream",
          "text": [
            "Extracting ./data\\MNIST\\raw\\train-labels-idx1-ubyte.gz to ./data\\MNIST\\raw\n",
            "\n",
            "Downloading http://yann.lecun.com/exdb/mnist/t10k-images-idx3-ubyte.gz\n",
            "Failed to download (trying next):\n",
            "HTTP Error 403: Forbidden\n",
            "\n",
            "Downloading https://ossci-datasets.s3.amazonaws.com/mnist/t10k-images-idx3-ubyte.gz\n",
            "Downloading https://ossci-datasets.s3.amazonaws.com/mnist/t10k-images-idx3-ubyte.gz to ./data\\MNIST\\raw\\t10k-images-idx3-ubyte.gz\n"
          ]
        },
        {
          "name": "stderr",
          "output_type": "stream",
          "text": [
            "100%|██████████| 1648877/1648877 [00:01<00:00, 839585.58it/s]\n"
          ]
        },
        {
          "name": "stdout",
          "output_type": "stream",
          "text": [
            "Extracting ./data\\MNIST\\raw\\t10k-images-idx3-ubyte.gz to ./data\\MNIST\\raw\n",
            "\n",
            "Downloading http://yann.lecun.com/exdb/mnist/t10k-labels-idx1-ubyte.gz\n",
            "Failed to download (trying next):\n",
            "HTTP Error 403: Forbidden\n",
            "\n",
            "Downloading https://ossci-datasets.s3.amazonaws.com/mnist/t10k-labels-idx1-ubyte.gz\n",
            "Downloading https://ossci-datasets.s3.amazonaws.com/mnist/t10k-labels-idx1-ubyte.gz to ./data\\MNIST\\raw\\t10k-labels-idx1-ubyte.gz\n"
          ]
        },
        {
          "name": "stderr",
          "output_type": "stream",
          "text": [
            "100%|██████████| 4542/4542 [00:00<00:00, 4556452.71it/s]"
          ]
        },
        {
          "name": "stdout",
          "output_type": "stream",
          "text": [
            "Extracting ./data\\MNIST\\raw\\t10k-labels-idx1-ubyte.gz to ./data\\MNIST\\raw\n",
            "\n"
          ]
        },
        {
          "name": "stderr",
          "output_type": "stream",
          "text": [
            "\n"
          ]
        }
      ],
      "source": [
        "transform = transforms.Compose([transforms.ToTensor()])\n",
        "mnist_train = torchvision.datasets.MNIST(root='./data', train=True, download=True, transform=transform)\n",
        "mnist_test = torchvision.datasets.MNIST(root='./data', train=False, download=True, transform=transform)"
      ]
    },
    {
      "cell_type": "code",
      "execution_count": 4,
      "metadata": {
        "id": "NH-fZbU76Jca"
      },
      "outputs": [],
      "source": [
        "flattened_images = []\n",
        "labels = []\n",
        "\n",
        "for image, label in mnist_train:\n",
        "    flattened_image = image.flatten()\n",
        "    flattened_images.append(flattened_image)\n",
        "    labels.append(label)\n",
        "\n",
        "tensor_train_imgs = torch.stack(flattened_images).to(device)\n",
        "tensor_train_labels = torch.tensor(labels).unsqueeze(1).to(device)"
      ]
    },
    {
      "cell_type": "code",
      "execution_count": 5,
      "metadata": {
        "id": "fSNx4tKG6Jcb"
      },
      "outputs": [],
      "source": [
        "flattened_images = []\n",
        "labels = []\n",
        "\n",
        "for image, label in mnist_test:\n",
        "    flattened_image = image.flatten()\n",
        "    flattened_images.append(flattened_image)\n",
        "    labels.append(label)\n",
        "\n",
        "tensor_test_imgs = torch.stack(flattened_images).to(device)\n",
        "tensor_test_labels = torch.tensor(labels).unsqueeze(1).to(device)"
      ]
    },
    {
      "cell_type": "markdown",
      "metadata": {
        "id": "D7qA0bq-fZrr"
      },
      "source": [
        "#KNN algorithm"
      ]
    },
    {
      "cell_type": "code",
      "execution_count": 13,
      "metadata": {
        "id": "0a8nvNo96Jcb"
      },
      "outputs": [],
      "source": [
        "def euclidean_distances(test_features, train_features):\n",
        "    test_squared_norms = torch.sum(test_features ** 2, dim=1).unsqueeze(1)\n",
        "    train_squared_norms = torch.sum(train_features ** 2, dim=1).unsqueeze(0)\n",
        "\n",
        "    dot_product = torch.mm(test_features, train_features.t())\n",
        "\n",
        "    dists_squared = test_squared_norms + train_squared_norms - 2 * dot_product\n",
        "\n",
        "    dists_squared = torch.clamp(dists_squared, min=0.0)\n",
        "\n",
        "    dists = torch.sqrt(dists_squared)\n",
        "\n",
        "    return dists"
      ]
    },
    {
      "cell_type": "code",
      "execution_count": 14,
      "metadata": {
        "id": "wFstcSoWdd8x"
      },
      "outputs": [],
      "source": [
        "def get_distances(test_features, train_features):\n",
        "    return euclidean_distances(test_features, train_features)"
      ]
    },
    {
      "cell_type": "code",
      "execution_count": 15,
      "metadata": {
        "id": "y28YfUQ7cDOn"
      },
      "outputs": [],
      "source": [
        "def knn(test_features, train_features, train_labels, k=3):\n",
        "    dists = get_distances(test_features, train_features)\n",
        "\n",
        "    _, knn_indices = torch.topk(dists, k, largest=False, dim=1)\n",
        "\n",
        "    nearest_neighbours_matrix = train_labels[knn_indices].squeeze()\n",
        "\n",
        "    # in single test_example case we have to add one dimension\n",
        "    if len(nearest_neighbours_matrix.size()) < 2:\n",
        "        nearest_neighbours_matrix = nearest_neighbours_matrix.unsqueeze(0)\n",
        "\n",
        "    batch_size, num_elements = nearest_neighbours_matrix.shape\n",
        "\n",
        "    counts = torch.zeros(batch_size, 10, dtype=torch.int).to(device)\n",
        "\n",
        "    counts.scatter_add_(dim=1, index=nearest_neighbours_matrix, src=torch.ones_like(nearest_neighbours_matrix, dtype=torch.int))\n",
        "\n",
        "    most_frequent = torch.argmax(counts, dim=1)\n",
        "\n",
        "    return most_frequent"
      ]
    },
    {
      "cell_type": "code",
      "execution_count": 16,
      "metadata": {
        "id": "cOvP4khCjhqt"
      },
      "outputs": [],
      "source": [
        "def single_example_knn(test_feature, train_features, train_labels, k=3):\n",
        "    return knn(test_feature.unsqueeze(0), train_features, train_labels, k)"
      ]
    },
    {
      "cell_type": "markdown",
      "metadata": {
        "id": "pPck92dikJC-"
      },
      "source": []
    },
    {
      "cell_type": "code",
      "execution_count": 17,
      "metadata": {
        "id": "lu85HsETebWH"
      },
      "outputs": [
        {
          "ename": "TypeError",
          "evalue": "topk(): argument 'input' (position 1) must be Tensor, not str",
          "output_type": "error",
          "traceback": [
            "\u001b[1;31m---------------------------------------------------------------------------\u001b[0m",
            "\u001b[1;31mTypeError\u001b[0m                                 Traceback (most recent call last)",
            "Cell \u001b[1;32mIn[17], line 8\u001b[0m\n\u001b[0;32m      4\u001b[0m test_labels \u001b[38;5;241m=\u001b[39m tensor_test_labels\n\u001b[0;32m      6\u001b[0m k \u001b[38;5;241m=\u001b[39m \u001b[38;5;241m3\u001b[39m\n\u001b[1;32m----> 8\u001b[0m mnist_guesses \u001b[38;5;241m=\u001b[39m \u001b[43mknn\u001b[49m\u001b[43m(\u001b[49m\u001b[43mtest_features\u001b[49m\u001b[43m,\u001b[49m\u001b[43m \u001b[49m\u001b[43mtrain_features\u001b[49m\u001b[43m,\u001b[49m\u001b[43m \u001b[49m\u001b[43mtrain_labels\u001b[49m\u001b[43m,\u001b[49m\u001b[43m \u001b[49m\u001b[43mk\u001b[49m\u001b[43m)\u001b[49m\n\u001b[0;32m      9\u001b[0m mnist_guess \u001b[38;5;241m=\u001b[39m single_example_knn(test_features[\u001b[38;5;241m0\u001b[39m],train_features, train_labels, k)\n",
            "Cell \u001b[1;32mIn[15], line 4\u001b[0m, in \u001b[0;36mknn\u001b[1;34m(test_features, train_features, train_labels, k)\u001b[0m\n\u001b[0;32m      1\u001b[0m \u001b[38;5;28;01mdef\u001b[39;00m \u001b[38;5;21mknn\u001b[39m(test_features, train_features, train_labels, k\u001b[38;5;241m=\u001b[39m\u001b[38;5;241m3\u001b[39m):\n\u001b[0;32m      2\u001b[0m     dists \u001b[38;5;241m=\u001b[39m get_distances(test_features, train_features)\n\u001b[1;32m----> 4\u001b[0m     _, knn_indices \u001b[38;5;241m=\u001b[39m \u001b[43mtorch\u001b[49m\u001b[38;5;241;43m.\u001b[39;49m\u001b[43mtopk\u001b[49m\u001b[43m(\u001b[49m\u001b[43mdists\u001b[49m\u001b[43m,\u001b[49m\u001b[43m \u001b[49m\u001b[43mk\u001b[49m\u001b[43m,\u001b[49m\u001b[43m \u001b[49m\u001b[43mlargest\u001b[49m\u001b[38;5;241;43m=\u001b[39;49m\u001b[38;5;28;43;01mFalse\u001b[39;49;00m\u001b[43m,\u001b[49m\u001b[43m \u001b[49m\u001b[43mdim\u001b[49m\u001b[38;5;241;43m=\u001b[39;49m\u001b[38;5;241;43m1\u001b[39;49m\u001b[43m)\u001b[49m\n\u001b[0;32m      6\u001b[0m     nearest_neighbours_matrix \u001b[38;5;241m=\u001b[39m train_labels[knn_indices]\u001b[38;5;241m.\u001b[39msqueeze()\n\u001b[0;32m      8\u001b[0m     \u001b[38;5;66;03m# in single test_example case we have to add one dimension\u001b[39;00m\n",
            "\u001b[1;31mTypeError\u001b[0m: topk(): argument 'input' (position 1) must be Tensor, not str"
          ]
        }
      ],
      "source": [
        "train_features = tensor_train_imgs\n",
        "test_features = tensor_test_imgs\n",
        "train_labels = tensor_train_labels\n",
        "test_labels = tensor_test_labels\n",
        "\n",
        "k = 3\n",
        "\n",
        "mnist_guesses = knn(test_features, train_features, train_labels, k)\n",
        "mnist_guess = single_example_knn(test_features[0],train_features, train_labels, k)"
      ]
    },
    {
      "cell_type": "code",
      "execution_count": null,
      "metadata": {
        "id": "lVntpq6goO0f"
      },
      "outputs": [],
      "source": [
        "X, y = make_moons(n_samples=1000, noise=1, random_state=42)\n",
        "X_train, X_test, y_train, y_test = train_test_split(X, y, test_size=0.2, random_state=42)\n",
        "\n",
        "X_train = torch.tensor(X_train).to(device)\n",
        "X_test = torch.tensor(X_test).to(device)\n",
        "y_train = torch.tensor(y_train).to(device)\n",
        "y_test = torch.tensor(y_test).to(device)\n",
        "\n",
        "k = 3\n",
        "\n",
        "moons_guesses = knn(X_test, X_train, y_train, k)\n",
        "moons_guess = single_example_knn(X_test[0],X_train, y_train, k)"
      ]
    },
    {
      "cell_type": "markdown",
      "metadata": {
        "id": "2cdlFzNYgpqz"
      },
      "source": [
        "#Algorithm Evaluation"
      ]
    },
    {
      "cell_type": "code",
      "execution_count": null,
      "metadata": {
        "colab": {
          "base_uri": "https://localhost:8080/"
        },
        "id": "YmUFZVUTp0ZG",
        "outputId": "3a8bd851-7eeb-468f-d962-7d85785b301b"
      },
      "outputs": [
        {
          "name": "stdout",
          "output_type": "stream",
          "text": [
            "0.9705\n",
            "\n",
            "Single guess: 7\n",
            "True label for single guess: 7\n"
          ]
        }
      ],
      "source": [
        "accuracy = torch.sum((test_labels.flatten()==mnist_guesses).int())/test_features.shape[0]\n",
        "\n",
        "print(round(accuracy.item(),4))\n",
        "\n",
        "print(f\"\\nSingle guess: {mnist_guess.item()}\")\n",
        "print(f\"True label for single guess: {test_labels[0].item()}\")"
      ]
    },
    {
      "cell_type": "code",
      "execution_count": null,
      "metadata": {
        "colab": {
          "base_uri": "https://localhost:8080/"
        },
        "id": "JX4LfCUeBhgf",
        "outputId": "433896e7-b184-443d-e3c2-dd4e2a8af32c"
      },
      "outputs": [
        {
          "name": "stdout",
          "output_type": "stream",
          "text": [
            "0.61\n",
            "\n",
            "Single guess: 1\n",
            "True label for single guess: 1\n"
          ]
        }
      ],
      "source": [
        "accuracy = torch.sum((y_test.flatten()==moons_guesses).int())/y_test.shape[0]\n",
        "\n",
        "print(round(accuracy.item(),4))\n",
        "\n",
        "print(f\"\\nSingle guess: {moons_guess.item()}\")\n",
        "print(f\"True label for single guess: {y_test[0].item()}\")"
      ]
    },
    {
      "cell_type": "markdown",
      "metadata": {
        "id": "p3ApOgHGs6rD"
      },
      "source": [
        "##Sklearn knn"
      ]
    },
    {
      "cell_type": "code",
      "execution_count": null,
      "metadata": {
        "colab": {
          "base_uri": "https://localhost:8080/"
        },
        "id": "WfbO0Cq0sMnc",
        "outputId": "4be18c0f-0fd6-42b4-af47-39276ab1852e"
      },
      "outputs": [
        {
          "name": "stderr",
          "output_type": "stream",
          "text": [
            "/usr/local/lib/python3.10/dist-packages/sklearn/neighbors/_classification.py:233: DataConversionWarning: A column-vector y was passed when a 1d array was expected. Please change the shape of y to (n_samples,), for example using ravel().\n",
            "  return self._fit(X, y)\n"
          ]
        },
        {
          "name": "stdout",
          "output_type": "stream",
          "text": [
            "Accuracy: 0.9705\n"
          ]
        }
      ],
      "source": [
        "X_train, X_test, y_train, y_test = train_test_split(X, y, test_size=0.2, random_state=42)\n",
        "\n",
        "sklearn_knn = KNeighborsClassifier(n_neighbors=3)  # You can adjust the number of neighbors\n",
        "sklearn_knn.fit(np.array(train_features.cpu()), np.array(train_labels.cpu()))\n",
        "\n",
        "y_pred = sklearn_knn.predict(np.array(test_features.cpu()))\n",
        "\n",
        "accuracy = accuracy_score(np.array(test_labels.cpu()), y_pred)\n",
        "print(f\"Accuracy: {accuracy:.4f}\")"
      ]
    },
    {
      "cell_type": "code",
      "execution_count": null,
      "metadata": {
        "colab": {
          "base_uri": "https://localhost:8080/"
        },
        "id": "ochzHdb0qsSZ",
        "outputId": "0fd16725-a54a-4a19-de38-b849aa94b4de"
      },
      "outputs": [
        {
          "name": "stdout",
          "output_type": "stream",
          "text": [
            "Accuracy: 0.6100\n"
          ]
        }
      ],
      "source": [
        "X_train, X_test, y_train, y_test = train_test_split(X, y, test_size=0.2, random_state=42)\n",
        "\n",
        "sklearn_knn = KNeighborsClassifier(n_neighbors=3)  # You can adjust the number of neighbors\n",
        "sklearn_knn.fit(X_train, y_train)\n",
        "\n",
        "y_pred = sklearn_knn.predict(X_test)\n",
        "\n",
        "accuracy = accuracy_score(y_test, y_pred)\n",
        "print(f\"Accuracy: {accuracy:.4f}\")"
      ]
    }
  ],
  "metadata": {
    "accelerator": "GPU",
    "colab": {
      "collapsed_sections": [
        "3zaRYgmZmuQt",
        "OZWAJpidm-Pw",
        "D7qA0bq-fZrr",
        "2cdlFzNYgpqz"
      ],
      "gpuType": "T4",
      "provenance": []
    },
    "kernelspec": {
      "display_name": "Python 3",
      "name": "python3"
    },
    "language_info": {
      "codemirror_mode": {
        "name": "ipython",
        "version": 3
      },
      "file_extension": ".py",
      "mimetype": "text/x-python",
      "name": "python",
      "nbconvert_exporter": "python",
      "pygments_lexer": "ipython3",
      "version": "3.12.5"
    }
  },
  "nbformat": 4,
  "nbformat_minor": 0
}
