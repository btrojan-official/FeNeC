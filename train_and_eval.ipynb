{
 "cells": [
  {
   "cell_type": "code",
   "execution_count": 1,
   "metadata": {},
   "outputs": [],
   "source": [
    "import torch\n",
    "\n",
    "from model import Knn_Kmeans_Logits \n",
    "from utils.other import load_data\n",
    "from configs.resnet_config import config"
   ]
  },
  {
   "cell_type": "code",
   "execution_count": 2,
   "metadata": {},
   "outputs": [
    {
     "name": "stdout",
     "output_type": "stream",
     "text": [
      "Using device: cuda\n"
     ]
    }
   ],
   "source": [
    "device =  torch.device(\"cuda\") if torch.cuda.is_available() else torch.device(\"cpu\")\n",
    "print(f\"Using device: {device}\")"
   ]
  },
  {
   "cell_type": "code",
   "execution_count": null,
   "metadata": {},
   "outputs": [
    {
     "name": "stdout",
     "output_type": "stream",
     "text": [
      "Accuracy: 68.48, Task ID: 0\n",
      "Accuracy: 68.41999816894531 MY\n",
      "\n",
      "Accuracy: 62.55, Task ID: 1\n",
      "Accuracy: 62.54999542236328 MY\n",
      "\n",
      "Accuracy: 60.7, Task ID: 2\n",
      "Accuracy: 60.70000076293945 MY\n",
      "\n",
      "Accuracy: 58.1, Task ID: 3\n",
      "Accuracy: 58.10000228881836 MY\n",
      "\n",
      "Accuracy: 55.13333333333333, Task ID: 4\n",
      "Accuracy: 55.13333511352539 MY\n",
      "\n",
      "Accuracy: 52.49, Task ID: 5\n",
      "Accuracy: 52.48999786376953 MY\n",
      "\n"
     ]
    }
   ],
   "source": [
    "model = Knn_Kmeans_Logits(config, device=device)\n",
    "\n",
    "for i in range(6):\n",
    "\n",
    "    X_train, y_train, X_test, y_test, covariances = load_data(task_num=i, dataset_name=\"resnet\", load_covariances=True, load_prototypes=False)\n",
    "\n",
    "    model.fit(X_train, y_train)\n",
    "\n",
    "    predictions = model.predict(X_test)\n",
    "\n",
    "    acc = (torch.sum((y_test.flatten().to(device)==predictions).int()) / X_test.shape[0] * 100).item()\n",
    "\n",
    "    print(f\"Accuracy: {acc} MY\\n\")\n"
   ]
  }
 ],
 "metadata": {
  "kernelspec": {
   "display_name": "venv",
   "language": "python",
   "name": "python3"
  },
  "language_info": {
   "codemirror_mode": {
    "name": "ipython",
    "version": 3
   },
   "file_extension": ".py",
   "mimetype": "text/x-python",
   "name": "python",
   "nbconvert_exporter": "python",
   "pygments_lexer": "ipython3",
   "version": "3.12.3"
  }
 },
 "nbformat": 4,
 "nbformat_minor": 2
}
