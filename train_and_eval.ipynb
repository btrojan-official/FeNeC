{
 "cells": [
  {
   "cell_type": "code",
   "execution_count": 1,
   "metadata": {},
   "outputs": [],
   "source": [
    "import torch\n",
    "\n",
    "from model import Knn_Kmeans_Logits \n",
    "from utils.other import load_data\n",
    "from configs.config import config"
   ]
  },
  {
   "cell_type": "code",
   "execution_count": 2,
   "metadata": {},
   "outputs": [
    {
     "name": "stdout",
     "output_type": "stream",
     "text": [
      "Using device: cuda\n"
     ]
    }
   ],
   "source": [
    "device =  torch.device(\"cuda\") if torch.cuda.is_available() else torch.device(\"cpu\")\n",
    "print(f\"Using device: {device}\")"
   ]
  },
  {
   "cell_type": "code",
   "execution_count": null,
   "metadata": {},
   "outputs": [
    {
     "name": "stdout",
     "output_type": "stream",
     "text": [
      "Accuracy: 83.56, Task ID: 0\n",
      "WARNING! All values in centroids smaller than 0 were set to 0\n",
      "Epoch 0 Loss: 3.9467497374683904\n",
      "Epoch 1 Loss: 3.919249146129377\n",
      "Epoch 2 Loss: 3.693710622696069\n",
      "Epoch 3 Loss: 0.8066899126615769\n",
      "Epoch 4 Loss: 0.20333764663995646\n",
      "Epoch 5 Loss: 0.10300216337029165\n",
      "Epoch 6 Loss: 0.0643358662926827\n",
      "Epoch 7 Loss: 0.04442154026379029\n",
      "Epoch 8 Loss: 0.03259389792470791\n",
      "Epoch 9 Loss: 0.024858360370686547\n"
     ]
    }
   ],
   "source": [
    "model = Knn_Kmeans_Logits(config, device=device)\n",
    "\n",
    "for i in range(6):\n",
    "\n",
    "    X_train, y_train, X_test, y_test, covariances = load_data(task_num=i, dataset_name=\"resnet\", load_covariances=True, load_prototypes=False)\n",
    "\n",
    "    model.fit(X_train, y_train)\n",
    "\n",
    "    predictions = model.predict(X_test)\n",
    "\n",
    "    acc = (torch.sum((y_test.flatten().to(device)==predictions).int()) / X_test.shape[0] * 100).item()\n",
    "\n",
    "    print(f\"Accuracy: {acc} MY\\n\")\n"
   ]
  }
 ],
 "metadata": {
  "kernelspec": {
   "display_name": "venv",
   "language": "python",
   "name": "python3"
  },
  "language_info": {
   "codemirror_mode": {
    "name": "ipython",
    "version": 3
   },
   "file_extension": ".py",
   "mimetype": "text/x-python",
   "name": "python",
   "nbconvert_exporter": "python",
   "pygments_lexer": "ipython3",
   "version": "3.12.3"
  }
 },
 "nbformat": 4,
 "nbformat_minor": 2
}
