{
 "cells": [
  {
   "cell_type": "code",
   "execution_count": 3,
   "metadata": {},
   "outputs": [],
   "source": [
    "import torch\n",
    "\n",
    "from model import Knn_Kmeans_Logits \n",
    "from utils.other import load_data\n",
    "from configs.vit_config import config"
   ]
  },
  {
   "cell_type": "code",
   "execution_count": 4,
   "metadata": {},
   "outputs": [
    {
     "name": "stdout",
     "output_type": "stream",
     "text": [
      "Using device: cuda\n"
     ]
    }
   ],
   "source": [
    "device =  torch.device(\"cuda\") if torch.cuda.is_available() else torch.device(\"cpu\")\n",
    "print(f\"Using device: {device}\")"
   ]
  },
  {
   "cell_type": "code",
   "execution_count": null,
   "metadata": {},
   "outputs": [
    {
     "name": "stdout",
     "output_type": "stream",
     "text": [
      "Accuracy: 97.89999389648438, Task ID: 0\n",
      "Accuracy: 97.9000015258789 MY\n",
      "Accuracy: 94.8499984741211, Task ID: 1\n",
      "Accuracy: 94.85000610351562 MY\n",
      "Accuracy: 92.36666870117188, Task ID: 2\n",
      "Accuracy: 92.36666870117188 MY\n",
      "Accuracy: 90.4000015258789, Task ID: 3\n",
      "Accuracy: 90.4000015258789 MY\n",
      "Accuracy: 89.27999877929688, Task ID: 4\n",
      "Accuracy: 89.27999877929688 MY\n",
      "Accuracy: 88.30000305175781, Task ID: 5\n",
      "Accuracy: 88.30000305175781 MY\n",
      "Accuracy: 87.51428985595703, Task ID: 6\n",
      "Accuracy: 87.51428985595703 MY\n",
      "Accuracy: 86.5999984741211, Task ID: 7\n",
      "Accuracy: 86.60000610351562 MY\n",
      "Accuracy: 86.56666564941406, Task ID: 8\n"
     ]
    }
   ],
   "source": [
    "model = Knn_Kmeans_Logits(config, device=device)\n",
    "\n",
    "for i in range(10):\n",
    "\n",
    "    X_train, y_train, X_test, y_test, covariances = load_data(task_num=i, dataset_name=\"vit\", load_covariances=True, load_prototypes=False)\n",
    "\n",
    "    model.fit(X_train, y_train)\n",
    "\n",
    "    predictions = model.predict(X_test)\n",
    "\n",
    "    acc = (torch.sum((y_test.flatten().to(device)==predictions).int()) / X_test.shape[0] * 100).item()\n",
    "\n",
    "    print(f\"Accuracy: {acc} MY\\n\")\n"
   ]
  }
 ],
 "metadata": {
  "kernelspec": {
   "display_name": "venv",
   "language": "python",
   "name": "python3"
  },
  "language_info": {
   "codemirror_mode": {
    "name": "ipython",
    "version": 3
   },
   "file_extension": ".py",
   "mimetype": "text/x-python",
   "name": "python",
   "nbconvert_exporter": "python",
   "pygments_lexer": "ipython3",
   "version": "3.12.3"
  }
 },
 "nbformat": 4,
 "nbformat_minor": 2
}
