{
 "cells": [
  {
   "cell_type": "markdown",
   "metadata": {},
   "source": [
    "# Import modules"
   ]
  },
  {
   "cell_type": "code",
   "execution_count": null,
   "metadata": {},
   "outputs": [],
   "source": [
    "import torch\n",
    "\n",
    "from model import FeNeC\n",
    "\n",
    "from configs.config import config\n",
    "from utils.loader import FeNeCDataLoader"
   ]
  },
  {
   "cell_type": "markdown",
   "metadata": {},
   "source": [
    "# Choose the device"
   ]
  },
  {
   "cell_type": "code",
   "execution_count": 2,
   "metadata": {},
   "outputs": [
    {
     "name": "stdout",
     "output_type": "stream",
     "text": [
      "Using device: cuda\n"
     ]
    }
   ],
   "source": [
    "if torch.cuda.is_available():\n",
    "    device = torch.device(\"cuda\")\n",
    "elif torch.backends.mps.is_available():\n",
    "    device = torch.device(\"mps\")\n",
    "else:\n",
    "    device = torch.device(\"cpu\")\n",
    "    \n",
    "print(f\"Using device: {device}\")"
   ]
  },
  {
   "cell_type": "markdown",
   "metadata": {},
   "source": [
    "# Run the training and evalutating loop\n",
    "\n",
    "For simplicity, you can also just pass extracted features from backbone with shapes as below to the model:\n",
    "- X_train (num_train_samples, num_features)\n",
    "- y_train (num_train_samples)\n",
    "- X_test (num_test_samples, num_features)\n",
    "- y_test (num_test_samples)\n",
    "\n",
    "Here we are using our dataloader, but it requires the datasets to be stored in\n",
    "given data directory and directory with dataset name (ex. \"./data/tinyimagenet\") and each task data need to be stored\n",
    "in task_0.hdf5 files were 0 is number of task. In each of hdf5 files there are some keys specified. \n",
    "Look at utils/loader.py file for more information."
   ]
  },
  {
   "cell_type": "code",
   "execution_count": 4,
   "metadata": {},
   "outputs": [
    {
     "name": "stdout",
     "output_type": "stream",
     "text": [
      "Accuracy: 0.9820000529289246\n",
      "Accuracy: 0.9510000348091125\n",
      "Accuracy: 0.9263333082199097\n",
      "Accuracy: 0.9077500700950623\n",
      "Accuracy: 0.8965999484062195\n",
      "Accuracy: 0.8861666321754456\n",
      "Accuracy: 0.87628573179245\n",
      "Accuracy: 0.8667500615119934\n",
      "Accuracy: 0.8653333187103271\n",
      "Accuracy: 0.8569999933242798\n",
      "Average incremental accuracy: 0.9015219151973725\n"
     ]
    }
   ],
   "source": [
    "data_loader = FeNeCDataLoader(num_tasks=10, dataset_name=\"vit\", load_covariances=True, load_prototypes=False, dataset_path=\"./data\")\n",
    "model = FeNeC(config, device=device)\n",
    "\n",
    "accuracies = []\n",
    "\n",
    "for i in range(10):\n",
    "    X_train, y_train, X_test, y_test, covariances, prototypes = data_loader.get_data(i)\n",
    "    \n",
    "    model.fit(X_train, y_train)\n",
    "    predictions = model.predict(X_test)\n",
    "    \n",
    "    accuracy = (torch.sum((y_test.flatten().to(device) == predictions).int()) / X_test.shape[0]).item()\n",
    "    accuracies.append(accuracy)\n",
    "\n",
    "    print(f\"Accuracy: {accuracy}\")\n",
    "\n",
    "print(f\"Average incremental accuracy: {sum(accuracies)/len(accuracies)}\")"
   ]
  }
 ],
 "metadata": {
  "kernelspec": {
   "display_name": ".venv",
   "language": "python",
   "name": "python3"
  },
  "language_info": {
   "codemirror_mode": {
    "name": "ipython",
    "version": 3
   },
   "file_extension": ".py",
   "mimetype": "text/x-python",
   "name": "python",
   "nbconvert_exporter": "python",
   "pygments_lexer": "ipython3",
   "version": "3.12.3"
  }
 },
 "nbformat": 4,
 "nbformat_minor": 2
}
