{
 "cells": [
  {
   "cell_type": "code",
   "execution_count": 1,
   "metadata": {},
   "outputs": [
    {
     "name": "stderr",
     "output_type": "stream",
     "text": [
      "/Users/mrfishpl/Desktop/GradKNN/venv/lib/python3.11/site-packages/sklearn/utils/_param_validation.py:14: UserWarning: A NumPy version >=1.23.5 and <2.5.0 is required for this version of SciPy (detected version 1.22.0)\n",
      "  from scipy.sparse import csr_matrix, issparse\n"
     ]
    }
   ],
   "source": [
    "import torch\n",
    "\n",
    "from model import Knn_Kmeans_Logits \n",
    "from configs.config import config"
   ]
  },
  {
   "cell_type": "code",
   "execution_count": 2,
   "metadata": {},
   "outputs": [
    {
     "name": "stdout",
     "output_type": "stream",
     "text": [
      "Using device: mps\n"
     ]
    }
   ],
   "source": [
    "if torch.backends.mps.is_available():\n",
    "    device = torch.device(\"mps\")\n",
    "elif torch.cuda.is_available():\n",
    "    device = torch.device(\"cuda\")\n",
    "else:\n",
    "    device = torch.device(\"cpu\")\n",
    "print(f\"Using device: {device}\")"
   ]
  },
  {
   "cell_type": "code",
   "execution_count": 3,
   "metadata": {},
   "outputs": [
    {
     "name": "stdout",
     "output_type": "stream",
     "text": [
      "WARNING! All values in centroids smaller than 0 were set to 0\n"
     ]
    },
    {
     "name": "stderr",
     "output_type": "stream",
     "text": [
      "/Users/mrfishpl/Desktop/GradKNN/utils/metric_functions.py:42: UserWarning: The operator 'aten::linalg_svd' is not currently supported on the MPS backend and will fall back to run on the CPU. This may have performance implications. (Triggered internally at /Users/runner/work/pytorch/pytorch/pytorch/aten/src/ATen/mps/MPSFallback.mm:13.)\n",
      "  cov_inv = torch.linalg.pinv(covMatrices[i * f_num:(i + 1) * f_num, :]).to(device)\n"
     ]
    },
    {
     "name": "stdout",
     "output_type": "stream",
     "text": [
      "Epoch [1|50] Loss: 17.15497618361403 (in this regularization: 0.0) ||| Validation Loss: 14.684065239338935, Val accuracy: 0.0\n",
      "Epoch [2|50] Loss: 12.69363324406048 (in this regularization: 0.0) ||| Validation Loss: 10.837573498110228, Val accuracy: 0.0\n",
      "Epoch [3|50] Loss: 9.311888863865178 (in this regularization: 0.0) ||| Validation Loss: 7.896623237223565, Val accuracy: 0.0\n",
      "Epoch [4|50] Loss: 6.684935610896101 (in this regularization: 0.0) ||| Validation Loss: 5.541613114031056, Val accuracy: 0.0\n",
      "Epoch [5|50] Loss: 4.515877338263174 (in this regularization: 0.0) ||| Validation Loss: 3.513823593719096, Val accuracy: 0.9998000264167786\n",
      "Epoch [6|50] Loss: 2.5832622138836894 (in this regularization: 0.0) ||| Validation Loss: 1.7234130916716177, Val accuracy: 0.9998000264167786\n",
      "Epoch [7|50] Loss: 1.1455122428580213 (in this regularization: 0.0) ||| Validation Loss: 0.7290086172804048, Val accuracy: 0.9998000264167786\n",
      "Epoch [8|50] Loss: 0.5174566339760923 (in this regularization: 0.0) ||| Validation Loss: 0.36957385532463655, Val accuracy: 0.9998000264167786\n",
      "Epoch [9|50] Loss: 0.2834474164933061 (in this regularization: 0.0) ||| Validation Loss: 0.2227690640506865, Val accuracy: 0.9998000264167786\n",
      "Epoch [10|50] Loss: 0.1777085233420229 (in this regularization: 0.0) ||| Validation Loss: 0.14769022657146938, Val accuracy: 0.9998000264167786\n",
      "Epoch [11|50] Loss: 0.12137864014734856 (in this regularization: 0.0) ||| Validation Loss: 0.1033569521541837, Val accuracy: 0.9998000264167786\n",
      "Epoch [12|50] Loss: 0.08755257400794152 (in this regularization: 0.0) ||| Validation Loss: 0.07610032966808428, Val accuracy: 0.9998000264167786\n",
      "Epoch [13|50] Loss: 0.06565333649325676 (in this regularization: 0.0) ||| Validation Loss: 0.058367678919170475, Val accuracy: 0.9998000264167786\n",
      "Epoch [14|50] Loss: 0.050620596570233566 (in this regularization: 0.0) ||| Validation Loss: 0.04568080717249762, Val accuracy: 0.9998000264167786\n",
      "Epoch [15|50] Loss: 0.03983833308156116 (in this regularization: 0.0) ||| Validation Loss: 0.03594960668418981, Val accuracy: 0.9998000264167786\n",
      "Epoch [16|50] Loss: 0.03188546608907346 (in this regularization: 0.0) ||| Validation Loss: 0.028821514562786192, Val accuracy: 0.9998000264167786\n",
      "Epoch [17|50] Loss: 0.02583316750764942 (in this regularization: 0.0) ||| Validation Loss: 0.023583450637569156, Val accuracy: 0.9998000264167786\n",
      "Epoch [18|50] Loss: 0.021198287296790283 (in this regularization: 0.0) ||| Validation Loss: 0.019386275223444535, Val accuracy: 0.9998000264167786\n",
      "Epoch [19|50] Loss: 0.017544729983249602 (in this regularization: 0.0) ||| Validation Loss: 0.016121116584709175, Val accuracy: 0.9998000264167786\n",
      "Epoch [20|50] Loss: 0.014602801521508077 (in this regularization: 0.0) ||| Validation Loss: 0.013607657602929238, Val accuracy: 0.9998000264167786\n",
      "Epoch [21|50] Loss: 0.01224484555304241 (in this regularization: 0.0) ||| Validation Loss: 0.011596265879660091, Val accuracy: 0.9998000264167786\n",
      "Epoch [22|50] Loss: 0.010340698006839608 (in this regularization: 0.0) ||| Validation Loss: 0.009562803482448187, Val accuracy: 0.9998000264167786\n",
      "Epoch [23|50] Loss: 0.008779158174527435 (in this regularization: 0.0) ||| Validation Loss: 0.008119292999323032, Val accuracy: 0.9998000264167786\n",
      "Epoch [24|50] Loss: 0.007488874957700388 (in this regularization: 0.0) ||| Validation Loss: 0.0069021022689964955, Val accuracy: 0.9998000264167786\n",
      "Epoch [25|50] Loss: 0.006421956834725488 (in this regularization: 0.0) ||| Validation Loss: 0.005902993190691724, Val accuracy: 0.9998000264167786\n",
      "Epoch [26|50] Loss: 0.005556003627041503 (in this regularization: 0.0) ||| Validation Loss: 0.005087776234096411, Val accuracy: 0.9998000264167786\n",
      "Epoch [27|50] Loss: 0.0047835523133186965 (in this regularization: 0.0) ||| Validation Loss: 0.004375681531603766, Val accuracy: 0.9998000264167786\n",
      "Epoch [28|50] Loss: 0.004160357498974442 (in this regularization: 0.0) ||| Validation Loss: 0.003818453405983746, Val accuracy: 0.9998000264167786\n",
      "Epoch [29|50] Loss: 0.003637933062565046 (in this regularization: 0.0) ||| Validation Loss: 0.00335682093761154, Val accuracy: 0.9998000264167786\n",
      "Epoch [30|50] Loss: 0.0032053928673133466 (in this regularization: 0.0) ||| Validation Loss: 0.0028672922935699336, Val accuracy: 0.9998000264167786\n",
      "Epoch [31|50] Loss: 0.0028272614860460877 (in this regularization: 0.0) ||| Validation Loss: 0.002531719655594258, Val accuracy: 0.9998000264167786\n",
      "Epoch [32|50] Loss: 0.002508387375532236 (in this regularization: 0.0) ||| Validation Loss: 0.002210924179916553, Val accuracy: 0.9998000264167786\n",
      "Epoch [33|50] Loss: 0.0022397116078591993 (in this regularization: 0.0) ||| Validation Loss: 0.0019520809323866955, Val accuracy: 0.9998000264167786\n",
      "Epoch [34|50] Loss: 0.0020096970971228523 (in this regularization: 0.0) ||| Validation Loss: 0.001733303982832637, Val accuracy: 0.9998000264167786\n",
      "Epoch [35|50] Loss: 0.0018217679025838152 (in this regularization: 0.0) ||| Validation Loss: 0.0015608042322358565, Val accuracy: 0.9998000264167786\n",
      "Epoch [36|50] Loss: 0.0016589827614538104 (in this regularization: 0.0) ||| Validation Loss: 0.001390873158683623, Val accuracy: 0.9998000264167786\n",
      "Epoch [37|50] Loss: 0.001511856883370203 (in this regularization: 0.0) ||| Validation Loss: 0.001250392072495144, Val accuracy: 0.9998000264167786\n",
      "Epoch [38|50] Loss: 0.001396444742068051 (in this regularization: 0.0) ||| Validation Loss: 0.0011361988745423482, Val accuracy: 0.9998000264167786\n",
      "Epoch [39|50] Loss: 0.0012940283656546537 (in this regularization: 0.0) ||| Validation Loss: 0.0010986923003610506, Val accuracy: 0.9998000264167786\n",
      "Epoch [40|50] Loss: 0.001208127972109395 (in this regularization: 0.0) ||| Validation Loss: 0.0009568253478817819, Val accuracy: 0.9998000264167786\n",
      "Epoch [41|50] Loss: 0.0011340577949709542 (in this regularization: 0.0) ||| Validation Loss: 0.0008776479286972995, Val accuracy: 0.9998000264167786\n",
      "Epoch [42|50] Loss: 0.0010727161968538065 (in this regularization: 0.0) ||| Validation Loss: 0.0008161835830833297, Val accuracy: 0.9998000264167786\n",
      "Epoch [43|50] Loss: 0.0010207500069726392 (in this regularization: 0.0) ||| Validation Loss: 0.0007630611535320515, Val accuracy: 0.9998000264167786\n",
      "Epoch [44|50] Loss: 0.0009773087162677791 (in this regularization: 0.0) ||| Validation Loss: 0.0007250628352980866, Val accuracy: 0.9998000264167786\n",
      "Epoch [45|50] Loss: 0.0009405463643894348 (in this regularization: 0.0) ||| Validation Loss: 0.0007165266701053088, Val accuracy: 0.9998000264167786\n",
      "Epoch [46|50] Loss: 0.0009105555984159657 (in this regularization: 0.0) ||| Validation Loss: 0.0006475278046136852, Val accuracy: 0.9998000264167786\n",
      "Epoch [47|50] Loss: 0.0008923708235716838 (in this regularization: 0.0) ||| Validation Loss: 0.000619925412311089, Val accuracy: 0.9998000264167786\n",
      "Epoch [48|50] Loss: 0.0008643412011369714 (in this regularization: 0.0) ||| Validation Loss: 0.0005951268486178033, Val accuracy: 0.9998000264167786\n",
      "Epoch [49|50] Loss: 0.0008494293868747722 (in this regularization: 0.0) ||| Validation Loss: 0.0005779417359330573, Val accuracy: 0.9998000264167786\n",
      "Epoch [50|50] Loss: 0.0008344741622561135 (in this regularization: 0.0) ||| Validation Loss: 0.0005612198559948077, Val accuracy: 0.9998000264167786\n",
      "WARNING! All values in centroids smaller than 0 were set to 0\n",
      "Epoch [1|50] Loss: 0.545720904119431 (in this regularization: 0.0) ||| Validation Loss: 0.5287697501480579, Val accuracy: 0.8669999837875366\n",
      "Epoch [2|50] Loss: 0.5340500119186583 (in this regularization: 0.0) ||| Validation Loss: 0.5254662148654461, Val accuracy: 0.8669999837875366\n",
      "Epoch [3|50] Loss: 0.5241883822849819 (in this regularization: 0.0) ||| Validation Loss: 0.5144316833466291, Val accuracy: 0.8669999837875366\n",
      "Epoch [4|50] Loss: 0.5175649381819225 (in this regularization: 0.0) ||| Validation Loss: 0.5078133456408978, Val accuracy: 0.8669999837875366\n",
      "Epoch [5|50] Loss: 0.5142541825771332 (in this regularization: 0.0) ||| Validation Loss: 0.510685520246625, Val accuracy: 0.8669999837875366\n",
      "Epoch [6|50] Loss: 0.5142778337947906 (in this regularization: 0.0) ||| Validation Loss: 0.5141740143299103, Val accuracy: 0.8669999837875366\n",
      "Epoch [7|50] Loss: 0.510045589908721 (in this regularization: 0.0) ||| Validation Loss: 0.5073213819414377, Val accuracy: 0.8669999837875366\n",
      "Epoch [8|50] Loss: 0.5090365608533224 (in this regularization: 0.0) ||| Validation Loss: 0.4986073151230812, Val accuracy: 0.8669999837875366\n",
      "Epoch [9|50] Loss: 0.5150366628926898 (in this regularization: 0.0) ||| Validation Loss: 0.4971995297819376, Val accuracy: 0.8669999837875366\n",
      "Epoch [10|50] Loss: 0.5074185710104685 (in this regularization: 0.0) ||| Validation Loss: 0.500746114179492, Val accuracy: 0.8669999837875366\n",
      "Epoch [11|50] Loss: 0.510567956973636 (in this regularization: 0.0) ||| Validation Loss: 0.49467786960303783, Val accuracy: 0.8669999837875366\n",
      "Epoch [12|50] Loss: 0.5055640966646255 (in this regularization: 0.0) ||| Validation Loss: 0.49643406737595797, Val accuracy: 0.8669999837875366\n",
      "Epoch [13|50] Loss: 0.5078842715611533 (in this regularization: 0.0) ||| Validation Loss: 0.492805914953351, Val accuracy: 0.8669999837875366\n",
      "Epoch [14|50] Loss: 0.5083193944560157 (in this regularization: 0.0) ||| Validation Loss: 0.4942882377654314, Val accuracy: 0.8669999837875366\n",
      "Epoch [15|50] Loss: 0.5068876123617566 (in this regularization: 0.0) ||| Validation Loss: 0.4957666266709566, Val accuracy: 0.8669999837875366\n",
      "Epoch [16|50] Loss: 0.5087721596161524 (in this regularization: 0.0) ||| Validation Loss: 0.4958187509328127, Val accuracy: 0.8669999837875366\n",
      "Epoch [17|50] Loss: 0.5069673633764661 (in this regularization: 0.0) ||| Validation Loss: 0.5020330268889666, Val accuracy: 0.8669999837875366\n",
      "Epoch [18|50] Loss: 0.504766614900695 (in this regularization: 0.0) ||| Validation Loss: 0.49396334774792194, Val accuracy: 0.8669999837875366\n",
      "Early stopping at epoch 18\n",
      "WARNING! All values in centroids smaller than 0 were set to 0\n",
      "Epoch [1|50] Loss: 0.5368927248886654 (in this regularization: 0.0) ||| Validation Loss: 0.5294775404036045, Val accuracy: 0.8560000061988831\n",
      "Epoch [2|50] Loss: 0.5384931871815334 (in this regularization: 0.0) ||| Validation Loss: 0.5359970275312662, Val accuracy: 0.8560000061988831\n",
      "Epoch [3|50] Loss: 0.539926438341065 (in this regularization: 0.0) ||| Validation Loss: 0.5310143511742353, Val accuracy: 0.8560000061988831\n",
      "Epoch [4|50] Loss: 0.5404290727206639 (in this regularization: 0.0) ||| Validation Loss: 0.5340274143964052, Val accuracy: 0.8560000061988831\n",
      "Epoch [5|50] Loss: 0.5377656789053054 (in this regularization: 0.0) ||| Validation Loss: 0.5380540303885937, Val accuracy: 0.8560000061988831\n",
      "Epoch [6|50] Loss: 0.539055157275427 (in this regularization: 0.0) ||| Validation Loss: 0.5287407990545034, Val accuracy: 0.8560000061988831\n",
      "Epoch [7|50] Loss: 0.5366950328387912 (in this regularization: 0.0) ||| Validation Loss: 0.5296477675437927, Val accuracy: 0.8560000061988831\n",
      "Epoch [8|50] Loss: 0.5356187248040759 (in this regularization: 0.0) ||| Validation Loss: 0.5280128158628941, Val accuracy: 0.8560000061988831\n",
      "Epoch [9|50] Loss: 0.5398556911756122 (in this regularization: 0.0) ||| Validation Loss: 0.5340424925088882, Val accuracy: 0.8560000061988831\n",
      "Epoch [10|50] Loss: 0.5372163568224225 (in this regularization: 0.0) ||| Validation Loss: 0.5343718733638525, Val accuracy: 0.8560000061988831\n",
      "Epoch [11|50] Loss: 0.5401510217833141 (in this regularization: 0.0) ||| Validation Loss: 0.5285329036414623, Val accuracy: 0.8560000061988831\n",
      "Epoch [12|50] Loss: 0.5409536796902853 (in this regularization: 0.0) ||| Validation Loss: 0.5265439338982105, Val accuracy: 0.8560000061988831\n",
      "Epoch [13|50] Loss: 0.5373161645635726 (in this regularization: 0.0) ||| Validation Loss: 0.5290193725377321, Val accuracy: 0.8560000061988831\n",
      "Epoch [14|50] Loss: 0.53862369344348 (in this regularization: 0.0) ||| Validation Loss: 0.5331371538341045, Val accuracy: 0.8560000061988831\n",
      "Epoch [15|50] Loss: 0.5387391641972556 (in this regularization: 0.0) ||| Validation Loss: 0.531210770830512, Val accuracy: 0.8560000061988831\n",
      "Epoch [16|50] Loss: 0.5377220736136512 (in this regularization: 0.0) ||| Validation Loss: 0.5269798282533884, Val accuracy: 0.8560000061988831\n",
      "Epoch [17|50] Loss: 0.5393222797484625 (in this regularization: 0.0) ||| Validation Loss: 0.5387403964996338, Val accuracy: 0.8560000061988831\n",
      "Early stopping at epoch 17\n",
      "WARNING! All values in centroids smaller than 0 were set to 0\n",
      "Epoch [1|50] Loss: 0.5675335124371543 (in this regularization: 0.0) ||| Validation Loss: 0.6364014651626348, Val accuracy: 0.8389999866485596\n",
      "Epoch [2|50] Loss: 0.5641537001208653 (in this regularization: 0.0) ||| Validation Loss: 0.6304531935602427, Val accuracy: 0.8389999866485596\n",
      "Epoch [3|50] Loss: 0.5584621746388693 (in this regularization: 0.0) ||| Validation Loss: 0.6356773041188717, Val accuracy: 0.8389999866485596\n",
      "Epoch [4|50] Loss: 0.5578994840856583 (in this regularization: 0.0) ||| Validation Loss: 0.6294980328530073, Val accuracy: 0.8389999866485596\n",
      "Epoch [5|50] Loss: 0.557538272606002 (in this regularization: 0.0) ||| Validation Loss: 0.6308244485408068, Val accuracy: 0.8389999866485596\n",
      "Epoch [6|50] Loss: 0.559191624323527 (in this regularization: 0.0) ||| Validation Loss: 0.6358343120664358, Val accuracy: 0.8389999866485596\n",
      "Epoch [7|50] Loss: 0.5602084242162251 (in this regularization: 0.0) ||| Validation Loss: 0.6330586299300194, Val accuracy: 0.8389999866485596\n",
      "Epoch [8|50] Loss: 0.5593523501403748 (in this regularization: 0.0) ||| Validation Loss: 0.6312492713332176, Val accuracy: 0.8389999866485596\n",
      "Epoch [9|50] Loss: 0.5582771774322267 (in this regularization: 0.0) ||| Validation Loss: 0.6372918505221605, Val accuracy: 0.8389999866485596\n",
      "Early stopping at epoch 9\n",
      "WARNING! All values in centroids smaller than 0 were set to 0\n",
      "Epoch [1|50] Loss: 0.6663591809689052 (in this regularization: 0.0) ||| Validation Loss: 0.5854531694203615, Val accuracy: 0.8389999866485596\n",
      "Epoch [2|50] Loss: 0.6632622575003003 (in this regularization: 0.0) ||| Validation Loss: 0.5931719895452261, Val accuracy: 0.8389999866485596\n",
      "Epoch [3|50] Loss: 0.6608753355722579 (in this regularization: 0.0) ||| Validation Loss: 0.5896181911230087, Val accuracy: 0.8389999866485596\n",
      "Epoch [4|50] Loss: 0.6603515055917558 (in this regularization: 0.0) ||| Validation Loss: 0.5899151414632797, Val accuracy: 0.8389999866485596\n",
      "Epoch [5|50] Loss: 0.6653123289819748 (in this regularization: 0.0) ||| Validation Loss: 0.5877669956535101, Val accuracy: 0.8389999866485596\n",
      "Epoch [6|50] Loss: 0.6620203393792349 (in this regularization: 0.0) ||| Validation Loss: 0.5958862546831369, Val accuracy: 0.8389999866485596\n",
      "Early stopping at epoch 6\n",
      "WARNING! All values in centroids smaller than 0 were set to 0\n",
      "Epoch [1|50] Loss: 0.7107879453235202 (in this regularization: 0.0) ||| Validation Loss: 0.7285680323839188, Val accuracy: 0.8309999704360962\n",
      "Epoch [2|50] Loss: 0.7141820797844539 (in this regularization: 0.0) ||| Validation Loss: 0.7187754139304161, Val accuracy: 0.8309999704360962\n",
      "Epoch [3|50] Loss: 0.7145432276385171 (in this regularization: 0.0) ||| Validation Loss: 0.7251572869718075, Val accuracy: 0.8309999704360962\n",
      "Epoch [4|50] Loss: 0.7101361004133073 (in this regularization: 0.0) ||| Validation Loss: 0.7197132986038923, Val accuracy: 0.8309999704360962\n",
      "Epoch [5|50] Loss: 0.7125032894195072 (in this regularization: 0.0) ||| Validation Loss: 0.7452233396470547, Val accuracy: 0.8309999704360962\n",
      "Epoch [6|50] Loss: 0.7102169366109938 (in this regularization: 0.0) ||| Validation Loss: 0.7212927863001823, Val accuracy: 0.8309999704360962\n",
      "Epoch [7|50] Loss: 0.7116283575693766 (in this regularization: 0.0) ||| Validation Loss: 0.7184640504419804, Val accuracy: 0.8309999704360962\n",
      "Epoch [8|50] Loss: 0.7196937894064283 (in this regularization: 0.0) ||| Validation Loss: 0.7302610073238611, Val accuracy: 0.8309999704360962\n",
      "Epoch [9|50] Loss: 0.7159421576393975 (in this regularization: 0.0) ||| Validation Loss: 0.7335696276277304, Val accuracy: 0.8309999704360962\n",
      "Epoch [10|50] Loss: 0.7151241368717618 (in this regularization: 0.0) ||| Validation Loss: 0.7177740279585123, Val accuracy: 0.8309999704360962\n",
      "Epoch [11|50] Loss: 0.7112277661051069 (in this regularization: 0.0) ||| Validation Loss: 0.71686209179461, Val accuracy: 0.8309999704360962\n",
      "Epoch [12|50] Loss: 0.7135869884301745 (in this regularization: 0.0) ||| Validation Loss: 0.7174522560089827, Val accuracy: 0.8309999704360962\n",
      "Epoch [13|50] Loss: 0.7124461181580074 (in this regularization: 0.0) ||| Validation Loss: 0.7140879593789577, Val accuracy: 0.8309999704360962\n",
      "Epoch [14|50] Loss: 0.7108251918402929 (in this regularization: 0.0) ||| Validation Loss: 0.7142855878919363, Val accuracy: 0.8309999704360962\n",
      "Epoch [15|50] Loss: 0.7127426342358665 (in this regularization: 0.0) ||| Validation Loss: 0.7225278727710247, Val accuracy: 0.8309999704360962\n",
      "Epoch [16|50] Loss: 0.7116419455361744 (in this regularization: 0.0) ||| Validation Loss: 0.732610547915101, Val accuracy: 0.8309999704360962\n",
      "Epoch [17|50] Loss: 0.711399549529666 (in this regularization: 0.0) ||| Validation Loss: 0.7242410704493523, Val accuracy: 0.8309999704360962\n",
      "Epoch [18|50] Loss: 0.7149478953982157 (in this regularization: 0.0) ||| Validation Loss: 0.7281648814678192, Val accuracy: 0.8309999704360962\n",
      "Early stopping at epoch 18\n",
      "Accuracy: 62.150001525878906 MY\n",
      "\n"
     ]
    }
   ],
   "source": [
    "from utils.other import GradKNNDataloader\n",
    "\n",
    "data_loader = GradKNNDataloader(num_tasks=6, dataset_name=\"resnet\", load_covariances=True, load_prototypes=False)\n",
    "model = Knn_Kmeans_Logits(config, device=device)\n",
    "\n",
    "for i in range(6):\n",
    "    X_train, y_train, X_test, y_test, covariances, prototypes = data_loader.get_data(i)\n",
    "    model.fit(X_train, y_train)\n",
    "    \n",
    "predictions = model.predict(X_test)\n",
    "acc = (torch.sum((y_test.flatten().to(device) == predictions).int()) / X_test.shape[0] * 100).item()\n",
    "print(f\"Accuracy: {acc} MY\\n\")"
   ]
  }
 ],
 "metadata": {
  "kernelspec": {
   "display_name": "venv",
   "language": "python",
   "name": "python3"
  },
  "language_info": {
   "codemirror_mode": {
    "name": "ipython",
    "version": 3
   },
   "file_extension": ".py",
   "mimetype": "text/x-python",
   "name": "python",
   "nbconvert_exporter": "python",
   "pygments_lexer": "ipython3",
   "version": "3.11.5"
  }
 },
 "nbformat": 4,
 "nbformat_minor": 2
}
