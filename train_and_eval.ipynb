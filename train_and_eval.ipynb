{
 "cells": [
  {
   "cell_type": "code",
   "execution_count": 1,
   "metadata": {},
   "outputs": [],
   "source": [
    "import torch\n",
    "\n",
    "from model import FeNeC\n",
    "from configs.config import config\n",
    "from utils.loader import FeNeCDataLoader"
   ]
  },
  {
   "cell_type": "code",
   "execution_count": 2,
   "metadata": {},
   "outputs": [
    {
     "name": "stdout",
     "output_type": "stream",
     "text": [
      "Using device: cuda\n"
     ]
    }
   ],
   "source": [
    "if torch.cuda.is_available():\n",
    "    device = torch.device(\"cuda\")\n",
    "elif torch.backends.mps.is_available():\n",
    "    device = torch.device(\"mps\")\n",
    "else:\n",
    "    device = torch.device(\"cpu\")\n",
    "    \n",
    "print(f\"Using device: {device}\")"
   ]
  },
  {
   "cell_type": "code",
   "execution_count": 3,
   "metadata": {},
   "outputs": [
    {
     "name": "stdout",
     "output_type": "stream",
     "text": [
      "Accuracy: 0.9820000529289246\n",
      "Accuracy: 0.9510000348091125\n",
      "Accuracy: 0.9263333082199097\n",
      "Accuracy: 0.9077500700950623\n",
      "Accuracy: 0.8965999484062195\n",
      "Accuracy: 0.8861666321754456\n",
      "Accuracy: 0.87628573179245\n",
      "Accuracy: 0.8667500615119934\n",
      "Accuracy: 0.8653333187103271\n",
      "Accuracy: 0.8569999933242798\n",
      "Average incremental accuracy: 0.9015219151973725\n"
     ]
    }
   ],
   "source": [
    "data_loader = FeNeCDataLoader(num_tasks=10, dataset_name=\"vit\", load_covariances=True, load_prototypes=False)\n",
    "model = FeNeC(config, device=device)\n",
    "\n",
    "accuracies = []\n",
    "\n",
    "for i in range(10):\n",
    "    X_train, y_train, X_test, y_test, covariances, prototypes = data_loader.get_data(i)\n",
    "    \n",
    "    model.fit(X_train, y_train)\n",
    "    predictions = model.predict(X_test)\n",
    "    \n",
    "    accuracy = (torch.sum((y_test.flatten().to(device) == predictions).int()) / X_test.shape[0]).item()\n",
    "    accuracies.append(accuracy)\n",
    "\n",
    "    print(f\"Accuracy: {accuracy}\")\n",
    "\n",
    "print(f\"Average incremental accuracy: {sum(accuracies)/len(accuracies)}\")"
   ]
  }
 ],
 "metadata": {
  "kernelspec": {
   "display_name": ".venv",
   "language": "python",
   "name": "python3"
  },
  "language_info": {
   "codemirror_mode": {
    "name": "ipython",
    "version": 3
   },
   "file_extension": ".py",
   "mimetype": "text/x-python",
   "name": "python",
   "nbconvert_exporter": "python",
   "pygments_lexer": "ipython3",
   "version": "3.12.3"
  }
 },
 "nbformat": 4,
 "nbformat_minor": 2
}
