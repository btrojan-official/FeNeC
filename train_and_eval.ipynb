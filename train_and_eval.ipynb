{
 "cells": [
  {
   "cell_type": "code",
   "execution_count": 1,
   "metadata": {},
   "outputs": [],
   "source": [
    "import torch\n",
    "\n",
    "from model import Knn_Kmeans_Logits \n",
    "from configs.config import config"
   ]
  },
  {
   "cell_type": "code",
   "execution_count": 2,
   "metadata": {},
   "outputs": [
    {
     "name": "stdout",
     "output_type": "stream",
     "text": [
      "Using device: cuda\n"
     ]
    }
   ],
   "source": [
    "if torch.backends.mps.is_available():\n",
    "    device = torch.device(\"mps\")\n",
    "elif torch.cuda.is_available():\n",
    "    device = torch.device(\"cuda\")\n",
    "else:\n",
    "    device = torch.device(\"cpu\")\n",
    "print(f\"Using device: {device}\")"
   ]
  },
  {
   "cell_type": "code",
   "execution_count": 3,
   "metadata": {},
   "outputs": [
    {
     "name": "stdout",
     "output_type": "stream",
     "text": [
      "Accuracy: 68.68000030517578 MY\n",
      "\n",
      "Accuracy: 63.033329010009766 MY\n",
      "\n",
      "Accuracy: 61.18571090698242 MY\n",
      "\n",
      "Accuracy: 58.79999923706055 MY\n",
      "\n",
      "Accuracy: 55.766666412353516 MY\n",
      "\n",
      "Accuracy: 53.17000198364258 MY\n",
      "\n"
     ]
    }
   ],
   "source": [
    "from utils.other import GradKNNDataloader\n",
    "\n",
    "data_loader = GradKNNDataloader(num_tasks=6, dataset_name=\"tinyimagenet\", load_covariances=True, load_prototypes=False)\n",
    "model = Knn_Kmeans_Logits(config, device=device)\n",
    "\n",
    "for i in range(6):\n",
    "    X_train, y_train, X_test, y_test, covariances, prototypes = data_loader.get_data(i)\n",
    "    model.fit(X_train, y_train)\n",
    "    \n",
    "    predictions = model.predict(X_test)\n",
    "    acc = (torch.sum((y_test.flatten().to(device) == predictions).int()) / X_test.shape[0] * 100).item()\n",
    "    print(f\"Accuracy: {acc} MY\\n\")"
   ]
  }
 ],
 "metadata": {
  "kernelspec": {
   "display_name": "venv",
   "language": "python",
   "name": "python3"
  },
  "language_info": {
   "codemirror_mode": {
    "name": "ipython",
    "version": 3
   },
   "file_extension": ".py",
   "mimetype": "text/x-python",
   "name": "python",
   "nbconvert_exporter": "python",
   "pygments_lexer": "ipython3",
   "version": "3.12.3"
  }
 },
 "nbformat": 4,
 "nbformat_minor": 2
}
